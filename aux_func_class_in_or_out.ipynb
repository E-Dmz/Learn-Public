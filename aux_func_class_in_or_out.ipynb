{
 "cells": [
  {
   "cell_type": "code",
   "execution_count": 1,
   "source": [
    "# fonction auxiliaire en DEHORS de la classe (publique)\r\n",
    "\r\n",
    "import math\r\n",
    "from random import randint\r\n",
    "\r\n",
    "#######################################################\r\n",
    "def weighted_average_function(v1, v2):\r\n",
    "    \"\"\"returns a function that computes the average of 2 values, weighted by v1 and v2\r\n",
    "    \"\"\"\r\n",
    "    return lambda c1,c2: math.ceil((c1*v1 + c2*v2)/(v1+v2))\r\n",
    "#######################################################\r\n",
    "    \r\n",
    "class Potion:\r\n",
    "    def __init__(self, color, volume):\r\n",
    "        self.color = color\r\n",
    "        self.volume = volume\r\n",
    "\r\n",
    "    def mix(self, other):\r\n",
    "        new_volume = self.volume + other.volume\r\n",
    "\r\n",
    "        mix_self_with_other = weighted_average_function(self.volume, other.volume)\r\n",
    "        new_color = tuple(map(mix_self_with_other, self.color, other.color))\r\n",
    "        \r\n",
    "        return Potion(new_color, new_volume)\r\n",
    "    \r\n",
    "    def characteristics(self):\r\n",
    "        return f\"\"\"Color: {self.color} Volume: {self.volume}\"\"\"\r\n",
    "\r\n",
    "    @classmethod\r\n",
    "    def random_potion(cls):\r\n",
    "        \"\"\"returns a random_potion\"\"\"\r\n",
    "        color = tuple(randint(0, 255) for _ in range(3))\r\n",
    "        volume = randint(10,50)\r\n",
    "        return cls(color, volume)\r\n",
    "\r\n",
    "def test_potion():\r\n",
    "    potion_1 = Potion.random_potion()\r\n",
    "    potion_2 = Potion.random_potion()\r\n",
    "    potion_3 = potion_1.mix(potion_2)\r\n",
    "    print(f\"\"\"    ***Testing random potions:***\r\n",
    "    Potion 1: {potion_1.characteristics()}\r\n",
    "    Potion 2: {potion_2.characteristics()}\r\n",
    "        Mix them together and you'll get:\r\n",
    "    Potion 3: {potion_3.characteristics()}\"\"\")\r\n",
    "\r\n",
    "Potion.random_potion().characteristics()\r\n",
    "test_potion()\r\n"
   ],
   "outputs": [
    {
     "output_type": "stream",
     "name": "stdout",
     "text": [
      "    ***Testing random potions:***\n",
      "    Potion 1: Color: (60, 156, 248) Volume: 33\n",
      "    Potion 2: Color: (149, 64, 158) Volume: 12\n",
      "        Mix them together and you'll get:\n",
      "    Potion 3: Color: (84, 132, 224) Volume: 45\n"
     ]
    }
   ],
   "metadata": {}
  },
  {
   "cell_type": "code",
   "execution_count": 2,
   "source": [
    "# fonction auxiliaire définie DANS la classe (instance function)\r\n",
    "try: del weighted_average_function \r\n",
    "except: None\r\n",
    "\r\n",
    "class Potion:\r\n",
    "    def __init__(self, color, volume):\r\n",
    "        self.color = color\r\n",
    "        self.volume = volume\r\n",
    "\r\n",
    "    def mix(self, other):\r\n",
    "        new_volume = self.volume + other.volume\r\n",
    "\r\n",
    "        mix_self_with_other = self.weighted_average_function(self.volume, other.volume)         # added self\r\n",
    "        new_color = tuple(map(mix_self_with_other, self.color, other.color))\r\n",
    "        \r\n",
    "        return Potion(new_color, new_volume)\r\n",
    "    \r\n",
    "    def characteristics(self):\r\n",
    "        return f\"\"\"Color: {self.color} Volume: {self.volume}\"\"\"\r\n",
    "\r\n",
    "    #######################################################################\r\n",
    "    def weighted_average_function(self, v1, v2):                                                # added self\r\n",
    "        \"\"\"returns a function that computes the average of 2 values, weighted by v1 and v2\r\n",
    "    \"\"\"\r\n",
    "        return lambda c1,c2: math.ceil((c1*v1 + c2*v2)/(v1+v2))\r\n",
    "    #######################################################################\r\n",
    "    \r\n",
    "    @classmethod\r\n",
    "    def random_potion(cls):\r\n",
    "        \"\"\"returns a random_potion\"\"\"\r\n",
    "        color = tuple(randint(0, 255) for _ in range(3))\r\n",
    "        volume = randint(10,50)\r\n",
    "        return cls(color, volume)\r\n",
    "\r\n",
    "Potion.random_potion().characteristics()\r\n",
    "test_potion()"
   ],
   "outputs": [
    {
     "output_type": "stream",
     "name": "stdout",
     "text": [
      "    ***Testing random potions:***\n",
      "    Potion 1: Color: (87, 19, 56) Volume: 16\n",
      "    Potion 2: Color: (204, 222, 154) Volume: 22\n",
      "        Mix them together and you'll get:\n",
      "    Potion 3: Color: (155, 137, 113) Volume: 38\n"
     ]
    }
   ],
   "metadata": {}
  },
  {
   "cell_type": "code",
   "execution_count": 3,
   "source": [
    "# fonction auxiliaire définie DANS la classe (class function)\r\n",
    "class Potion:\r\n",
    "    def __init__(self, color, volume):\r\n",
    "        self.color = color\r\n",
    "        self.volume = volume\r\n",
    "\r\n",
    "    def mix(self, other):\r\n",
    "        new_volume = self.volume + other.volume\r\n",
    "\r\n",
    "        mix_self_with_other = self.weighted_average_function(self.volume, other.volume)         # added self (NOT cls)\r\n",
    "        new_color = tuple(map(mix_self_with_other, self.color, other.color))\r\n",
    "        \r\n",
    "        return Potion(new_color, new_volume)\r\n",
    "    \r\n",
    "    def characteristics(self):\r\n",
    "        return f\"\"\"Color: {self.color} Volume: {self.volume}\"\"\"\r\n",
    "\r\n",
    "    #############################################################\r\n",
    "    @classmethod\r\n",
    "    def weighted_average_function(cls, v1, v2):                                                # added cls\r\n",
    "        \"\"\"returns a function that computes the average of 2 values, weighted by v1 and v2\r\n",
    "    \"\"\"\r\n",
    "        return lambda c1,c2: math.ceil((c1*v1 + c2*v2)/(v1+v2))\r\n",
    "    #############################################################\r\n",
    "\r\n",
    "    @classmethod\r\n",
    "    def random_potion(cls):\r\n",
    "        \"\"\"returns a random_potion\"\"\"\r\n",
    "        color = tuple(randint(0, 255) for _ in range(3))\r\n",
    "        volume = randint(10,50)\r\n",
    "        return cls(color, volume)\r\n",
    "\r\n",
    "Potion.random_potion().characteristics()\r\n",
    "test_potion()"
   ],
   "outputs": [
    {
     "output_type": "stream",
     "name": "stdout",
     "text": [
      "    ***Testing random potions:***\n",
      "    Potion 1: Color: (2, 164, 143) Volume: 30\n",
      "    Potion 2: Color: (57, 64, 40) Volume: 39\n",
      "        Mix them together and you'll get:\n",
      "    Potion 3: Color: (34, 108, 85) Volume: 69\n"
     ]
    }
   ],
   "metadata": {}
  }
 ],
 "metadata": {
  "orig_nbformat": 4,
  "language_info": {
   "name": "python",
   "version": "3.9.6",
   "mimetype": "text/x-python",
   "codemirror_mode": {
    "name": "ipython",
    "version": 3
   },
   "pygments_lexer": "ipython3",
   "nbconvert_exporter": "python",
   "file_extension": ".py"
  },
  "kernelspec": {
   "name": "python3",
   "display_name": "Python 3.9.6 64-bit"
  },
  "interpreter": {
   "hash": "63fd5069d213b44bf678585dea6b12cceca9941eaf7f819626cde1f2670de90d"
  }
 },
 "nbformat": 4,
 "nbformat_minor": 2
}